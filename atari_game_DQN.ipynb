{
 "cells": [
  {
   "cell_type": "markdown",
   "metadata": {},
   "source": [
    "# Lesson 1: gather the tools for RL\n",
    "In this notebook, you will learn:\n",
    "* Create a virtual enviroment from OpenAI\n",
    "* Visualize the game and know how to use it\n",
    "* Create a simple model(agent) to play the game\n",
    "* Reloading Agent from memory"
   ]
  },
  {
   "cell_type": "markdown",
   "metadata": {},
   "source": [
    "## Import dependencies\n"
   ]
  },
  {
   "cell_type": "markdown",
   "metadata": {},
   "source": [
    "import retro\n",
    "# Note that this line will print all the games even ones for which ROMs are missing\n",
    "print(\"Number of possible games:\", len(retro.data.list_games()))\n",
    "print(retro.data.list_games()[1:10])"
   ]
  },
  {
   "cell_type": "code",
   "execution_count": 2,
   "metadata": {},
   "outputs": [],
   "source": [
    "# Test classical game in OpenAI\n",
    "%matplotlib inline\n",
    "import gym\n",
    "import retro\n",
    "import matplotlib.pyplot as plt\n",
    "import numpy as np\n",
    "import cv2\n",
    "from collections import deque #ordered collection with ends\n",
    "import random\n",
    "\n",
    "import torch\n",
    "import torch.nn as nn\n",
    "import torch.optim as optim\n",
    "import torch.nn.functional as F\n",
    "from torchvision import transforms"
   ]
  },
  {
   "cell_type": "markdown",
   "metadata": {},
   "source": [
    "### Get the information of the game\n"
   ]
  },
  {
   "cell_type": "code",
   "execution_count": 3,
   "metadata": {},
   "outputs": [],
   "source": [
    "def query_environment(name):\n",
    "  env = gym.make(name)\n",
    "  spec = gym.spec(name)\n",
    "  print(f\"Action Space: {env.action_space}\")\n",
    "  print(f\"Observation Space: {env.observation_space}\")\n",
    "  print(f\"Max Episode Steps: {spec.max_episode_steps}\")\n",
    "  print(f\"Nondeterministic: {spec.nondeterministic}\")\n",
    "  print(f\"Reward Range: {env.reward_range}\")\n",
    "  print(f\"Reward Threshold: {spec.reward_threshold}\")"
   ]
  },
  {
   "cell_type": "code",
   "execution_count": 5,
   "metadata": {},
   "outputs": [
    {
     "name": "stdout",
     "output_type": "stream",
     "text": [
      "The size of the our frame is:  Box(0, 255, (210, 160, 3), uint8)\n",
      "The action size is: 6\n"
     ]
    },
    {
     "name": "stderr",
     "output_type": "stream",
     "text": [
      "A.L.E: Arcade Learning Environment (version 0.7.4+069f8bd)\n",
      "[Powered by Stella]\n"
     ]
    },
    {
     "data": {
      "text/plain": [
       "['NOOP', 'FIRE', 'RIGHT', 'LEFT', 'RIGHTFIRE', 'LEFTFIRE']"
      ]
     },
     "execution_count": 5,
     "metadata": {},
     "output_type": "execute_result"
    }
   ],
   "source": [
    "# If you want to use retro with emulator, use this\n",
    "# game_name =\"SpaceInvaders-Atari2600\"\n",
    "# env = retro.make(game=game_name)\n",
    "\n",
    "# If you want to use simple version\n",
    "game_name =\"ALE/SpaceInvaders-v5\"\n",
    "env = gym.make(game_name)\n",
    "#env = gym.make('CartPole-v1')\n",
    "#env = gym.make('MountainCar-v0')\n",
    "#env = gym.make('ALE/MsPacman-v5')\n",
    "\n",
    "print(\"The size of the our frame is: \", env.observation_space)\n",
    "print(\"The action size is:\", env.action_space.n)\n",
    "# Only works with basic games in gym\n",
    "# query_environment(game_name)\n",
    "\n",
    "\n",
    "height, width, channels = env.observation_space.shape\n",
    "actions = env.action_space.n\n",
    "\n",
    "# The following code could work for some games only\n",
    "env.unwrapped.get_action_meanings()\n"
   ]
  },
  {
   "cell_type": "markdown",
   "metadata": {},
   "source": [
    "## Visualize the game and know how to use it"
   ]
  },
  {
   "cell_type": "code",
   "execution_count": 6,
   "metadata": {},
   "outputs": [
    {
     "data": {
      "text/plain": [
       "<matplotlib.image.AxesImage at 0x7f915f565fa0>"
      ]
     },
     "execution_count": 6,
     "metadata": {},
     "output_type": "execute_result"
    },
    {
     "data": {
      "image/png": "[encoded data removed]",
      "text/plain": [
       "<Figure size 432x288 with 1 Axes>"
      ]
     },
     "metadata": {
      "needs_background": "light"
     },
     "output_type": "display_data"
    }
   ],
   "source": [
    "state=env.reset()\n",
    "# A glimpse of the game\n",
    "prev_screen = env.render(mode='rgb_array')\n",
    "plt.imshow(prev_screen)"
   ]
  },
  {
   "cell_type": "code",
   "execution_count": 7,
   "metadata": {},
   "outputs": [],
   "source": [
    "# To accelerate the learning, we change the output of agent as an hot encoded version of output\n",
    "one_hot_actions = np.array(np.identity(env.action_space.n, dtype=int).tolist())"
   ]
  },
  {
   "cell_type": "markdown",
   "metadata": {},
   "source": [
    "## Create an agent that takes random actions"
   ]
  },
  {
   "cell_type": "markdown",
   "metadata": {},
   "source": [
    "Here we saved the played game as atari_trail_#.avi\n",
    "\n",
    "You can also try to render the game if your OS supports it correctly. However, if you have several errors, check this [article](https://liveproject.manning.com/module/264_3_2/reinforcement-learning-for-self-driving-vehicles/2--optimizing-agent%27s-performance-in-openai-gym/rendering-environment-outputs-%26-q-learning?) for support. Otherwise you can use the code here to write the played games as .avi. "
   ]
  },
  {
   "cell_type": "code",
   "execution_count": 9,
   "metadata": {},
   "outputs": [],
   "source": [
    "def test_game_video(game_name,episodes, action_select):\n",
    "    os.makedirs(f\"played_out/{game_name}\",exist_ok=True) \n",
    "    env = gym.make(game_name)\n",
    "    prev_screen = env.reset()\n",
    "    height, width, layers = prev_screen.shape\n",
    "    for episode in range(1, episodes+1):\n",
    "        state = env.reset()\n",
    "        out = cv2.VideoWriter(f'played_out/{game_name}/project_{episode}.avi',cv2.VideoWriter_fourcc(*'DIVX'), 15, (width,height))\n",
    "        done = False\n",
    "        score = 0 \n",
    "        while not done:\n",
    "            out.write(env.render('rgb_array'))\n",
    "            action = action_select(env)\n",
    "            n_state, reward, done, info = env.step(action)\n",
    "            score+=reward\n",
    "\n",
    "        out.release()\n",
    "\n",
    "        print('Episode:{} Score:{}'.format(episode, score))\n",
    "    env.close()"
   ]
  },
  {
   "cell_type": "code",
   "execution_count": 11,
   "metadata": {},
   "outputs": [
    {
     "name": "stdout",
     "output_type": "stream",
     "text": [
      "Episode:1 Score:205.0\n",
      "Episode:2 Score:55.0\n",
      "Episode:3 Score:540.0\n"
     ]
    }
   ],
   "source": [
    "# Creat an agent that takes random actions\n",
    "def action_select(env):\n",
    "    return env.action_space.sample()\n",
    "\n",
    "episodes = 3\n",
    "os.makedirs(f\"played_out/{game_name}\",exist_ok=True) \n",
    "test_game_video(game_name,episodes, action_select)\n"
   ]
  },
  {
   "cell_type": "markdown",
   "metadata": {},
   "source": [
    "### Train an agent (DQN) to play the game in a better way!"
   ]
  },
  {
   "cell_type": "markdown",
   "metadata": {},
   "source": [
    "#### Preprocessing function\n",
    "To simplify and increase the successful rate of training, preprocessing is an important step to reduce the complexity of our states. Here are the idea we will apply to this Atari game:\n",
    "* Grayscale each frames\n",
    "* Crop the screen that does not provide useful information\n",
    "* Normalize pixel values\n",
    "* Resize the preprocessed frame (110x84)\n"
   ]
  },
  {
   "cell_type": "code",
   "execution_count": 12,
   "metadata": {},
   "outputs": [],
   "source": [
    "pre_process = transforms.Compose([\n",
    "    transforms.ToTensor(),\n",
    "    transforms.Grayscale(),\n",
    "    transforms.Resize([110,84]),\n",
    "    transforms.Normalize(0,255),\n",
    "    ] )"
   ]
  },
  {
   "cell_type": "code",
   "execution_count": 13,
   "metadata": {},
   "outputs": [],
   "source": [
    "def preproccess_frame(frame):\n",
    "    pre_frame = frame[8:-15, 4:-12,:]\n",
    "    pre_frame = pre_process(pre_frame)\n",
    "    return pre_frame\n",
    "    "
   ]
  },
  {
   "cell_type": "code",
   "execution_count": 14,
   "metadata": {},
   "outputs": [
    {
     "name": "stdout",
     "output_type": "stream",
     "text": [
      "(210, 160, 3)\n",
      "torch.Size([1, 110, 84])\n"
     ]
    },
    {
     "data": {
      "text/plain": [
       "<matplotlib.image.AxesImage at 0x7f915cc18ac0>"
      ]
     },
     "execution_count": 14,
     "metadata": {},
     "output_type": "execute_result"
    },
    {
     "data": {
      "image/png": "[encoded data removed]",
      "text/plain": [
       "<Figure size 432x288 with 1 Axes>"
      ]
     },
     "metadata": {
      "needs_background": "light"
     },
     "output_type": "display_data"
    },
    {
     "data": {
      "image/png": "[encoded data removed]",
      "text/plain": [
       "<Figure size 432x288 with 1 Axes>"
      ]
     },
     "metadata": {
      "needs_background": "light"
     },
     "output_type": "display_data"
    }
   ],
   "source": [
    "# Test the result of preprocessed function\n",
    "print(state.shape)\n",
    "preprocessed_state = preproccess_frame(state)\n",
    "print(preprocessed_state.shape)\n",
    "plt.imshow(state)\n",
    "plt.figure()\n",
    "plt.imshow(preprocessed_state[0],cmap='gray')"
   ]
  },
  {
   "cell_type": "markdown",
   "metadata": {},
   "source": [
    "### Stack_frames\n",
    "Intuitively we know that the sequential frames provide more accurate motion in a game. Here we are going to use four sequential frames as input states. We are going to just stack these frames but if you are interested in exploding more, you should consider the use of LSTM or other types of RNN.\n",
    "\n",
    "Read this short [article](https://danieltakeshi.github.io/2016/11/25/frame-skipping-and-preprocessing-for-deep-q-networks-on-atari-2600-games/) to understand more about the idea of giving several frmaes \n",
    "\n",
    "To do it, we skip 4 frames at each timestep. Here is the steps:\n",
    "* Preprocess frame\n",
    "* Append the frame to the deque and automatically removes the oldest frame\n",
    "* Build the stacked state and feed to our agent"
   ]
  },
  {
   "cell_type": "code",
   "execution_count": 15,
   "metadata": {},
   "outputs": [],
   "source": [
    "stack_size = 4\n",
    "# Initialize deque with zero-images on array for each image\n",
    "stacked_frames = deque([np.zeros((110,84), dtype=int) for i in range(stack_size)],maxlen=4)\n",
    "\n",
    "def stack_frames(stacked_frames, state, is_new_episode):\n",
    "    # preprocess frame\n",
    "    frame = preproccess_frame(state)\n",
    "\n",
    "    if is_new_episode:\n",
    "        #clear que\n",
    "        stacked_frames = deque([np.zeros((110,84), dtype=int) for i in range(stack_size)],maxlen=4)\n",
    "\n",
    "        #Repeate the first frame four times\n",
    "        stacked_frames.append(frame)\n",
    "        stacked_frames.append(frame)\n",
    "        stacked_frames.append(frame)\n",
    "        stacked_frames.append(frame)\n",
    "    else:\n",
    "        stacked_frames.append(frame)\n",
    "\n",
    "    stacked_state = np.stack(stacked_frames, axis=2)\n",
    "\n",
    "    return stacked_state, stacked_frames\n",
    "\n"
   ]
  },
  {
   "cell_type": "markdown",
   "metadata": {},
   "source": [
    "### Set up hyperparameters\n"
   ]
  },
  {
   "cell_type": "code",
   "execution_count": 16,
   "metadata": {},
   "outputs": [],
   "source": [
    "### MODEL HYPERPARAMETERS\n",
    "state_size = [110, 84, 4]      # Our input is a stack of 4 gray frames hence 110x84x4 (Width, height, channels) \n",
    "action_size = env.action_space.n # 8 possible actions\n",
    "learning_rate =  0.00025      # Alpha (aka learning rate)\n",
    "\n",
    "### TRAINING HYPERPARAMETERS\n",
    "total_episodes = 50            # Total episodes for training\n",
    "max_steps = 50000              # Max possible steps in an episode\n",
    "batch_size = 64                # Batch size\n",
    "\n",
    "# Exploration parameters for epsilon greedy strategy\n",
    "explore_start = 1.0            # exploration probability at start\n",
    "explore_stop = 0.01            # minimum exploration probability \n",
    "decay_rate = 0.00001           # exponential decay rate for exploration prob\n",
    "\n",
    "# Q learning hyperparameters\n",
    "gamma = 0.9                    # Discounting rate\n",
    "\n",
    "### MEMORY HYPERPARAMETERS\n",
    "pretrain_length = batch_size   # Number of experiences stored in the Memory when initialized for the first time\n",
    "memory_size = 1000000          # Number of experiences the Memory can keep\n",
    "\n",
    "### PREPROCESSING HYPERPARAMETERS\n",
    "stack_size = 4                 # Number of frames stacked\n",
    "\n",
    "### MODIFY THIS TO FALSE IF YOU JUST WANT TO SEE THE TRAINED AGENT\n",
    "training = False\n",
    "\n",
    "## TURN THIS TO TRUE IF YOU WANT TO RENDER THE ENVIRONMENT\n",
    "episode_render = False"
   ]
  },
  {
   "cell_type": "markdown",
   "metadata": {},
   "source": [
    "### Create our DQN network\n",
    "We are going to create a network that takes a stack of 4 frames as input and it passes through 3 convnets, then it is flatened and finally 2 fully connected layers to ouputs a Q value for each actions"
   ]
  },
  {
   "cell_type": "code",
   "execution_count": null,
   "metadata": {},
   "outputs": [],
   "source": [
    "class DQNetwork(nn.Module):\n",
    "    def __init__(self, state_size, action_size, learning_rate, name='DQNetwork'):\n",
    "        super(self).__init__()\n",
    "        self.state_size = state_size\n",
    "        self.action_size = action_size\n",
    "        self.learning_rate = learning_rate\n",
    "\n",
    "        # input 110x84x4\n",
    "        # Formula to calculate H_out = [(H_in+2 x padding-dilation x (kernel_size-1) -1)/stride+1]\n",
    "        self.conv1 = nn.Conv2d(4,32,8,stride=4, padding=\"valid\") #output will be 20x20 feature\n",
    "        self.conv2 = nn.Conv2d(32,64,4,stride=2, padding=\"valid\") #output will be 9x9\n",
    "        self.conv3 = nn.Conv2d(64,64,3,stride=2, padding=\"valid\") #output will be 6x6\n",
    "        self.fc1 = nn.Linear(64*6,512)\n",
    "        self.fc2 = nn.Linear(512,6)\n",
    "\n",
    "    def forward(self,x):\n",
    "        x = F.elu(self.conv1(x))\n",
    "        x = F.elu(self.conv2(x))\n",
    "        x = F.elu(self.conv3(x))\n",
    "        x = x.view(-1,32*81)\n",
    "        x = F.elu(self.fc1(x))\n",
    "        x = self.fc2(x)\n",
    "        return x"
   ]
  },
  {
   "cell_type": "markdown",
   "metadata": {},
   "source": [
    "### Replay experience\n",
    "Now we need to define a training function that can learn from the replay experience and has the ability to improve itself with batch of experience. Here we'll create the Memory object that creates a deque.A deque (double ended queue) is a data type that **removes the oldest element each time that you add a new element.**\n",
    "\n",
    "This part was taken from Udacity : <a href=\"https://github.com/udacity/deep-learning/blob/master/reinforcement/Q-learning-cart.ipynb\" Cartpole DQN</a>"
   ]
  },
  {
   "cell_type": "markdown",
   "metadata": {},
   "source": [
    "class ReplayMemory(object):\n",
    "    def __init__(self, capacity):\n",
    "        self.capacity = capacity\n",
    "        self.memory = []\n",
    "        self.position = 0\n",
    "\n",
    "    def store(self, *args):\n",
    "        if len(self.memory) < self.capacity:\n",
    "            self.memory.append(None)\n",
    "        self.memory[self.position] = Transition(*args)\n",
    "        self.position = (self.position + 1) % self.capacity\n",
    "\n",
    "    def sample(self, batch_size):\n",
    "        return random.sample(self.memory, batch_size)\n",
    "\n",
    "    def __len__(self):\n",
    "        return len(self.memory)\n",
    "        \n",
    "def initialize_memory():\n",
    "    steps = 0\n",
    "    state = np.zeros((4,84,84))\n",
    "    next_state = np.zeros((4,84,84))\n",
    "\n",
    "    state_single = env.reset()\n",
    "    state_single = pre_process(state_single)\n",
    "\n",
    "    state[0,:,:] = state_single\n",
    "    state[1,:,:] = state_single\n",
    "    state[2,:,:] = state_single\n",
    "    state[3,:,:] = state_single\n",
    "\n",
    "    print('Starting to fill the memory with random policy')\n",
    "    while steps < self.memory_burn_limit:\n",
    "        #Executing a random policy\n",
    "        action = LongTensor([[random.randrange(self.env.action_space.n)]])\n",
    "        next_state_single, reward, is_terminal, _ = self.env.step(action[0,0])                \n",
    "        #next_state_single = rgb2gray(resize(next_state_single,(84,84))) \n",
    "        next_state_single = pre_process(next_state_single)\n",
    "\n",
    "        next_state[0,:,:] = state[1,:,:]\n",
    "        next_state[1,:,:] = state[2,:,:]\n",
    "        next_state[2,:,:] = state[3,:,:]\n",
    "        next_state[3,:,:] = next_state_single\n",
    "\n",
    "        if is_terminal:\n",
    "            # store the transition in memory\n",
    "            next_state = None\n",
    "            self.memory.store(FloatTensor([state]),\n",
    "                            action,\n",
    "                            None,\n",
    "                            FloatTensor([reward]))\n",
    "        else:\n",
    "            self.memory.store(FloatTensor([state]),\n",
    "                            action,\n",
    "                            FloatTensor([next_state]),\n",
    "                            FloatTensor([reward]))\n",
    "\n",
    "\n",
    "        steps += 1\n",
    "        state = next_state\n",
    "\n",
    "        #If the next_state is terminal, then you reset it\n",
    "        if is_terminal:\n",
    "            state_single = self.env.reset()\n",
    "            #state_single = rgb2gray(resize(state_single,(84,84)))\n",
    "            state_single = pre_process(state_single)\n",
    "\n",
    "            state[0,:,:] = state_single\n",
    "            state[1,:,:] = state_single\n",
    "            state[2,:,:] = state_single\n",
    "            state[3,:,:] = state_single\n",
    "                \n",
    "    print('Memory filled, ready to start training now')\n",
    "    print(\"-\"*50)\n",
    "    "
   ]
  },
  {
   "cell_type": "markdown",
   "metadata": {},
   "source": [
    "## Step 7: Set up Tensorboard\n",
    "For more information about tensorboard, please watch this <a href=\"https://www.youtube.com/embed/eBbEDRsCmv4\">excellent 30min tutorial</a> <br><br>\n",
    "To launch tensorboard : `tensorboard --logdir=/tensorboard/dqn/1`"
   ]
  },
  {
   "cell_type": "code",
   "execution_count": null,
   "metadata": {},
   "outputs": [],
   "source": [
    "from torch.utils.tensorboard import SummaryWriter\n",
    "# writer will output to ./runs/ directory by default\n",
    "writer = SummaryWriter()"
   ]
  },
  {
   "cell_type": "markdown",
   "metadata": {},
   "source": [
    "### Step 8: train our agent"
   ]
  },
  {
   "cell_type": "markdown",
   "metadata": {},
   "source": []
  }
 ],
 "metadata": {
  "interpreter": {
   "hash": "58ebf2bdf3fec6311776e815246f7f0e7d119fc350c7ac7a1afec9478206122a"
  },
  "kernelspec": {
   "display_name": "Python 3",
   "language": "python",
   "name": "python3"
  },
  "language_info": {
   "codemirror_mode": {
    "name": "ipython",
    "version": 3
   },
   "file_extension": ".py",
   "mimetype": "text/x-python",
   "name": "python",
   "nbconvert_exporter": "python",
   "pygments_lexer": "ipython3",
   "version": "3.7.11"
  }
 },
 "nbformat": 4,
 "nbformat_minor": 2
}
