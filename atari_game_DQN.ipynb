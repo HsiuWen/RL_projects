{
 "cells": [
  {
   "cell_type": "markdown",
   "metadata": {},
   "source": [
    "# Lesson 1: gather the tools for RL\n",
    "In this notebook, you will learn:\n",
    "* Create a virtual enviroment from OpenAI\n",
    "* Visualize the game and know how to use it\n",
    "* Create a simple model(agent) to play the game\n",
    "* Reloading Agent from memory"
   ]
  },
  {
   "cell_type": "markdown",
   "metadata": {},
   "source": [
    "## Dependencies"
   ]
  },
  {
   "cell_type": "code",
   "execution_count": 12,
   "metadata": {},
   "outputs": [],
   "source": [
    "# Test classical game in OpenAI\n",
    "%matplotlib inline\n",
    "import gym\n",
    "import matplotlib.pyplot as plt\n",
    "import torch\n",
    "import cv2\n",
    "import os"
   ]
  },
  {
   "cell_type": "markdown",
   "metadata": {},
   "source": [
    "## Create a virtual enviroment from OpenAI"
   ]
  },
  {
   "cell_type": "code",
   "execution_count": 2,
   "metadata": {},
   "outputs": [
    {
     "name": "stderr",
     "output_type": "stream",
     "text": [
      "A.L.E: Arcade Learning Environment (version 0.7.4+069f8bd)\n",
      "[Powered by Stella]\n"
     ]
    }
   ],
   "source": [
    "Atari_name = 'ALE/SpaceInvaders-v5'\n",
    "env = gym.make(Atari_name)\n",
    "#env = gym.make('CartPole-v1')\n",
    "#env = gym.make('MountainCar-v0')\n",
    "#env = gym.make('ALE/MsPacman-v5')\n",
    "height, width, channels = env.observation_space.shape\n",
    "actions = env.action_space.n"
   ]
  },
  {
   "cell_type": "code",
   "execution_count": 17,
   "metadata": {},
   "outputs": [],
   "source": [
    "# A function to have a glance of the design of the gam\n",
    "def query_environment(name):\n",
    "  env = gym.make(name)\n",
    "  spec = gym.spec(name)\n",
    "  print(f\"Action Space: {env.action_space}\")\n",
    "  print(f\"Observation Space: {env.observation_space}\")\n",
    "  print(f\"Max Episode Steps: {spec.max_episode_steps}\")\n",
    "  print(f\"Nondeterministic: {spec.nondeterministic}\")\n",
    "  print(f\"Reward Range: {env.reward_range}\")\n",
    "  print(f\"Reward Threshold: {spec.reward_threshold}\")"
   ]
  },
  {
   "cell_type": "code",
   "execution_count": 18,
   "metadata": {},
   "outputs": [
    {
     "name": "stdout",
     "output_type": "stream",
     "text": [
      "Action Space: Discrete(6)\n",
      "Observation Space: Box(0, 255, (210, 160, 3), uint8)\n",
      "Max Episode Steps: 27000\n",
      "Nondeterministic: False\n",
      "Reward Range: (-inf, inf)\n",
      "Reward Threshold: None\n"
     ]
    }
   ],
   "source": [
    "query_environment(Atari_name)"
   ]
  },
  {
   "cell_type": "code",
   "execution_count": 16,
   "metadata": {},
   "outputs": [
    {
     "data": {
      "text/plain": [
       "<matplotlib.image.AxesImage at 0x7f1f9d7a2760>"
      ]
     },
     "execution_count": 16,
     "metadata": {},
     "output_type": "execute_result"
    },
    {
     "data": {
      "image/png": "[encoded data removed]",
      "text/plain": [
       "<Figure size 432x288 with 1 Axes>"
      ]
     },
     "metadata": {
      "needs_background": "light"
     },
     "output_type": "display_data"
    }
   ],
   "source": [
    "env.reset()\n",
    "prev_screen = env.render(mode='rgb_array')\n",
    "plt.imshow(prev_screen)"
   ]
  },
  {
   "cell_type": "code",
   "execution_count": 4,
   "metadata": {},
   "outputs": [
    {
     "data": {
      "text/plain": [
       "['NOOP', 'FIRE', 'RIGHT', 'LEFT', 'RIGHTFIRE', 'LEFTFIRE']"
      ]
     },
     "execution_count": 4,
     "metadata": {},
     "output_type": "execute_result"
    }
   ],
   "source": [
    "env.unwrapped.get_action_meanings()"
   ]
  },
  {
   "cell_type": "markdown",
   "metadata": {},
   "source": [
    "Here we saved the played game as atari_trail_#.avi\n",
    "\n",
    "You can also try to render the game if your OS supports it correctly. However, if you have several errors, check this [article](https://liveproject.manning.com/module/264_3_2/reinforcement-learning-for-self-driving-vehicles/2--optimizing-agent%27s-performance-in-openai-gym/rendering-environment-outputs-%26-q-learning?) for support. Otherwise you can use the code here to write the played games as .avi. "
   ]
  },
  {
   "cell_type": "code",
   "execution_count": 15,
   "metadata": {},
   "outputs": [
    {
     "name": "stdout",
     "output_type": "stream",
     "text": [
      "Episode:1 Score:310.0\n",
      "Episode:2 Score:360.0\n",
      "Episode:3 Score:75.0\n",
      "Episode:4 Score:50.0\n",
      "Episode:5 Score:185.0\n",
      "Episode:6 Score:210.0\n",
      "Episode:7 Score:30.0\n",
      "Episode:8 Score:135.0\n",
      "Episode:9 Score:155.0\n",
      "Episode:10 Score:50.0\n"
     ]
    }
   ],
   "source": [
    "os.makedirs('played_out',exist_ok=True)\n",
    "episodes = 10\n",
    "write_play_every_episode = 5\n",
    "record_video = False\n",
    "for episode in range(1, episodes+1):\n",
    "    state = env.reset()\n",
    "    done = False\n",
    "    score = 0 \n",
    "    img = env.render(mode=\"rgb_array\")\n",
    "    \n",
    "    if  episode%write_play_every_episode == 0:\n",
    "        record_video = True\n",
    "        height, width, layers = img.shape\n",
    "        size = (width,height)\n",
    "        out = cv2.VideoWriter(f'./played_out/project_{episode}.avi',cv2.VideoWriter_fourcc(*'DIVX'), 15, size)\n",
    "    else:\n",
    "        record_video = False\n",
    "    \n",
    "    while not done:\n",
    "        if record_video == True:\n",
    "            img = env.render(mode=\"rgb_array\")\n",
    "            img_cv2 = cv2.cvtColor(img, cv2.COLOR_RGB2BGR)\n",
    "            out.write(img_cv2)\n",
    "            \n",
    "        action = env.action_space.sample()\n",
    "        n_state, reward, done, info = env.step(action)\n",
    "        score+=reward\n",
    "    \n",
    "    if record_video:\n",
    "        out.release()\n",
    "        \n",
    "    print('Episode:{} Score:{}'.format(episode, score))\n",
    "env.close()"
   ]
  },
  {
   "cell_type": "code",
   "execution_count": null,
   "metadata": {},
   "outputs": [],
   "source": []
  }
 ],
 "metadata": {
  "interpreter": {
   "hash": "58ebf2bdf3fec6311776e815246f7f0e7d119fc350c7ac7a1afec9478206122a"
  },
  "kernelspec": {
   "display_name": "Python 3.9.7 ('RL_env')",
   "language": "python",
   "name": "python3"
  },
  "language_info": {
   "codemirror_mode": {
    "name": "ipython",
    "version": 3
   },
   "file_extension": ".py",
   "mimetype": "text/x-python",
   "name": "python",
   "nbconvert_exporter": "python",
   "pygments_lexer": "ipython3",
   "version": "3.9.7"
  },
  "orig_nbformat": 4
 },
 "nbformat": 4,
 "nbformat_minor": 2
}
